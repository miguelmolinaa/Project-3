{
 "cells": [
  {
   "cell_type": "code",
   "execution_count": 1,
   "id": "5541efe8",
   "metadata": {},
   "outputs": [],
   "source": [
    "import csv\n",
    "import json\n",
    "\n",
    "csv_path = \"Resources/all-listings-export_geocodio.csv\"  # Correct the quotation marks here\n",
    "\n",
    "with open(csv_path, \"r\") as csv_file:  # Correct the parentheses placement here\n",
    "    csv_reader = csv.DictReader(csv_file)\n",
    "    \n",
    "    data = []\n",
    "    \n",
    "    for row in csv_reader:\n",
    "        data.append(row)\n",
    "        \n",
    "json_data = json.dumps(data, indent=4)\n",
    "\n",
    "# Define the path for the JSON file\n",
    "json_file_path = \"Resources/all-listing-gecodio.json\"  # Correct the quotation marks here\n",
    "\n",
    "with open(json_file_path, 'w') as json_file:\n",
    "    json_file.write(json_data)\n"
   ]
  },
  {
   "cell_type": "code",
   "execution_count": null,
   "id": "3dc965bd",
   "metadata": {},
   "outputs": [],
   "source": []
  }
 ],
 "metadata": {
  "kernelspec": {
   "display_name": "Python 3 (ipykernel)",
   "language": "python",
   "name": "python3"
  },
  "language_info": {
   "codemirror_mode": {
    "name": "ipython",
    "version": 3
   },
   "file_extension": ".py",
   "mimetype": "text/x-python",
   "name": "python",
   "nbconvert_exporter": "python",
   "pygments_lexer": "ipython3",
   "version": "3.10.12"
  }
 },
 "nbformat": 4,
 "nbformat_minor": 5
}
